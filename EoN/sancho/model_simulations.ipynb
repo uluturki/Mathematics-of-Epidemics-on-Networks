{
 "cells": [
  {
   "cell_type": "code",
   "execution_count": 42,
   "metadata": {
    "collapsed": true
   },
   "outputs": [],
   "source": [
    "import networkx as nx\n",
    "from EoN import *\n",
    "import matplotlib.pyplot as plt\n",
    "import numpy as np\n",
    "import scipy\n",
    "import random\n",
    "from collections import defaultdict"
   ]
  },
  {
   "cell_type": "code",
   "execution_count": 43,
   "outputs": [],
   "source": [
    "# Starting with building the compartmental model\n",
    "\n",
    "# Create the underlying contact network (erdos-renyi graph)\n",
    "# number of nodes\n",
    "N = 1000\n",
    "# From the Julia code:\n",
    "# connections = .7*N*(N-1)/2\n",
    "# k = 2*connections/N\n",
    "# @ELLIOT see the line below about expected degree / edge probability\n",
    "# assuming k is expected degree, k = 0.7*(N-1) makes for a VERY dense network where almost everyone is connected directly.\n",
    "# I am going to just going to make something up for the expected degree until we clarify it.\n",
    "# k = 0.7*(N-1)  # expected degree (number of connections) of a node = 7\n",
    "k = 70  # expected degree (number of connections) of a node = 7\n",
    "p = k / (N-1)  # edge probability.\n",
    "\n",
    "# create the contact network\n",
    "G = nx.fast_gnp_random_graph(N, p)\n",
    "\n",
    "# Parameters for the compartmental model (from Julia notebook)\n",
    "tau = 1.0 / 7.0  # testing rate\n",
    "s = 0.9  # test sensitivity\n",
    "epsilon = tau*s  # rate for discovery of Infected nodes [they are sent to Quarantine when discovered]\n",
    "gamma_i = 0.01  # Recovery rate for Infected nodes.\n",
    "gamma_q = 0.5  # Recovery rate for Quarantined individuals.\n",
    "beta = 0.01  # Infection rate for the [IS] to [II] pairs\n",
    "\n",
    "# Compartmental model is defined with two graphs, essentially representing the Figure 1 on overleaf here.\n",
    "# one represents the spontaneous (like I to R) transitions.\n",
    "# The other represents the induced (from edge pairs) transitions.\n",
    "# Edge weights are transition rates from compartments.\n",
    "H = nx.DiGraph()\n",
    "H.add_node('S')  #This line is unnecessary.\n",
    "H.add_edge('I', 'R', rate = gamma_i)  # Infected to Recovered\n",
    "H.add_edge('I', 'Q', rate = epsilon)  # Infected to Quarantine\n",
    "H.add_edge('Q', 'R', rate = gamma_q)  # Quarantine to Recovered\n",
    "\n",
    "# Model of transitions induced by neighbor nodes\n",
    "J = nx.DiGraph()\n",
    "J.add_edge(('I', 'S'), ('I', 'I'), rate = beta)  #[IS] to [II], i.e. a susceptible getting infected through neighbor\n",
    "\n",
    "# Initial states of all nodes, all S except the first few.\n",
    "IC = defaultdict(lambda: 'S')\n",
    "for node in range(20):\n",
    "    IC[node] = 'I'\n",
    "\n",
    "# Tell the simulation what variables to return\n",
    "return_statuses = ('S', 'I', 'R', 'Q')"
   ],
   "metadata": {
    "collapsed": false,
    "pycharm": {
     "name": "#%%\n"
    }
   }
  },
  {
   "cell_type": "code",
   "execution_count": 44,
   "outputs": [],
   "source": [
    "# Run the simulation\n",
    "t, S, I, R, Q = EoN.Gillespie_simple_contagion(G, H, J, IC, return_statuses, tmax = float('Inf'))"
   ],
   "metadata": {
    "collapsed": false,
    "pycharm": {
     "name": "#%%\n"
    }
   }
  },
  {
   "cell_type": "code",
   "execution_count": 47,
   "outputs": [
    {
     "data": {
      "text/plain": "<Figure size 432x288 with 1 Axes>",
      "image/png": "[encoded data removed]"
     },
     "metadata": {
      "needs_background": "light"
     },
     "output_type": "display_data"
    }
   ],
   "source": [
    "# plot the results\n",
    "\n",
    "plt.plot(t, S, label = 'S')\n",
    "plt.plot(t, I, label = 'I')\n",
    "plt.plot(t, R, label = 'R')\n",
    "plt.plot(t, Q, label = 'Q')\n",
    "# plt.clf()\n",
    "plt.legend()\n",
    "plt.xlabel('time')\n",
    "plt.ylabel('counts')\n",
    "plt.savefig('SIRQ.png')\n",
    "plt.show()"
   ],
   "metadata": {
    "collapsed": false,
    "pycharm": {
     "name": "#%%\n"
    }
   }
  },
  {
   "cell_type": "code",
   "execution_count": 46,
   "outputs": [
    {
     "data": {
      "text/plain": "array([0.00000000e+00, 5.87409277e-02, 6.85059674e-02, ...,\n       5.48224075e+01, 6.28641671e+01, 6.59754078e+01])"
     },
     "execution_count": 46,
     "metadata": {},
     "output_type": "execute_result"
    }
   ],
   "source": [
    "t"
   ],
   "metadata": {
    "collapsed": false,
    "pycharm": {
     "name": "#%%\n"
    }
   }
  }
 ],
 "metadata": {
  "kernelspec": {
   "display_name": "Python 3",
   "language": "python",
   "name": "python3"
  },
  "language_info": {
   "codemirror_mode": {
    "name": "ipython",
    "version": 2
   },
   "file_extension": ".py",
   "mimetype": "text/x-python",
   "name": "python",
   "nbconvert_exporter": "python",
   "pygments_lexer": "ipython2",
   "version": "2.7.6"
  }
 },
 "nbformat": 4,
 "nbformat_minor": 0
}